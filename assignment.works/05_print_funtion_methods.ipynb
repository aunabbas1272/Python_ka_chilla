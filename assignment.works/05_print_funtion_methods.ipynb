{
 "cells": [
  {
   "cell_type": "markdown",
   "id": "e1be9ac3",
   "metadata": {},
   "source": [
    "# print funtion methods"
   ]
  },
  {
   "cell_type": "code",
   "execution_count": 31,
   "id": "91dab622",
   "metadata": {},
   "outputs": [
    {
     "name": "stdout",
     "output_type": "stream",
     "text": [
      "My name is \n",
      "Hello Codanics\n",
      "Hello, Codanics\n",
      "Hello Codanics\n",
      "Hello,codanics\n",
      "Hello:Codanics\n",
      "Hello;Aun\n",
      "Asslam o Alikum:Aun\n",
      "Asslam o Alikum Aun !\n"
     ]
    }
   ],
   "source": [
    "print(\"My name is \")\n",
    "print(\"Hello Codanics\")\n",
    "print(\"Hello, Codanics\")\n",
    "print(\"Hello\", \"Codanics\")\n",
    "print(\"Hello\", \"codanics\", sep=\",\")\n",
    "print(\"Hello\", \"Codanics\", sep=\":\",end=\"\\n\")\n",
    "print(\"Hello\", \"Aun\", sep=\";\",end=\"\\n\")\n",
    "print(\"Asslam o Alikum\",\"Aun\", sep=\":\",end=\"\\n\")\n",
    "print(\"Asslam o Alikum\",\"Aun !\", sep=\" \", end=\"\\n\")"
   ]
  },
  {
   "cell_type": "code",
   "execution_count": 16,
   "id": "098d4b6c",
   "metadata": {},
   "outputs": [
    {
     "name": "stdout",
     "output_type": "stream",
     "text": [
      "Hello:Aun\n",
      "Hello!Noul\n"
     ]
    }
   ],
   "source": [
    "print(\"Hello\",\"Aun\", sep=\":\",end=\"\\n\")\n",
    "print(\"Hello\",\"Noul\",sep=\"!\",end=\"\\n\")"
   ]
  },
  {
   "cell_type": "code",
   "execution_count": 18,
   "id": "9f630652",
   "metadata": {},
   "outputs": [
    {
     "name": "stdout",
     "output_type": "stream",
     "text": [
      "My name is Aun and I am 25 years old.How are you\n"
     ]
    }
   ],
   "source": [
    "# f string\n",
    "name = \"Aun\"\n",
    "age = 25\n",
    "final = \"How are you\"\n",
    "print(f\"My name is {name} and I am {age} years old.{final}\")"
   ]
  },
  {
   "cell_type": "code",
   "execution_count": 20,
   "id": "4fbcc911",
   "metadata": {},
   "outputs": [
    {
     "name": "stdout",
     "output_type": "stream",
     "text": [
      "mera naam Abid or mari age 36 saal ha.mira  aak shagird ha. main python ka teacher ha\n"
     ]
    }
   ],
   "source": [
    "# f string\n",
    "name =\"Abid\"\n",
    "age = 36\n",
    "final = \"mira  aak shagird ha\"\n",
    "teacher = \"main python ka teacher ha\"\n",
    "print(f\"mera naam {name} or mari age {age} saal ha.{final}. {teacher}\")"
   ]
  },
  {
   "cell_type": "code",
   "execution_count": 26,
   "id": "d61021e2",
   "metadata": {},
   "outputs": [
    {
     "name": "stdout",
     "output_type": "stream",
     "text": [
      "My name is Aun I am 16 year old. I love  cricket \n"
     ]
    }
   ],
   "source": [
    "# f string \n",
    "name = \"Aun\"\n",
    "age = 16 \n",
    "final = \" cricket\"\n",
    "print(f\"My name is {name} I am {age} year old. I love {final} \")"
   ]
  },
  {
   "cell_type": "code",
   "execution_count": 34,
   "id": "e85d1f73",
   "metadata": {},
   "outputs": [
    {
     "name": "stdout",
     "output_type": "stream",
     "text": [
      "His name is JF 17_Thander His speed is 2200mhr. He is dad of India \n"
     ]
    }
   ],
   "source": [
    "# string \n",
    "name = \"JF 17_Thander\"\n",
    "speed = 2200  \n",
    "final = \"He is dad of India\"\n",
    "print(f\"His name is {name} His speed is {speed}mhr. {final} \")"
   ]
  },
  {
   "cell_type": "code",
   "execution_count": 36,
   "id": "bad1e1ad",
   "metadata": {},
   "outputs": [
    {
     "name": "stdout",
     "output_type": "stream",
     "text": [
      "his name is Aammar and his is 38 year old.\n",
      " They have a channal on YouTube\n"
     ]
    }
   ],
   "source": [
    "# f string with break line \n",
    "name = \"Aammar\"\n",
    "age = 38\n",
    "final = \"They have a channal on YouTube\"\n",
    "print(f\"his name is {name} and his is {age} year old.\\n {final}\")"
   ]
  },
  {
   "cell_type": "code",
   "execution_count": 41,
   "id": "f7f7b8bf",
   "metadata": {},
   "outputs": [
    {
     "name": "stdout",
     "output_type": "stream",
     "text": [
      "His name is Naheed Imran His age is 40.\n",
      " They have a two sons and one doughter .\n",
      "he is living in Johdakay .\n",
      "They are living happy life.\n"
     ]
    }
   ],
   "source": [
    "# f string with break line\n",
    "name = \"Naheed Imran\"\n",
    "age = 40\n",
    "final = \"They have a two sons and one doughter .\"\n",
    "address = \"he is living in Johdakay \"\n",
    "life = \"They are living happy life\"\n",
    "print(f\"His name is {name} His age is {age}.\\n {final}\\n{address}.\\n{life}.\")\n"
   ]
  },
  {
   "cell_type": "code",
   "execution_count": 46,
   "id": "943ba58d",
   "metadata": {},
   "outputs": [
    {
     "name": "stdout",
     "output_type": "stream",
     "text": [
      "Hello, Codanics!\n"
     ]
    }
   ],
   "source": [
    "# str .format ()\n",
    "print(\"Hello, {}!\".format(\"Codanics\"))"
   ]
  },
  {
   "cell_type": "code",
   "execution_count": 56,
   "id": "e807654b",
   "metadata": {},
   "outputs": [
    {
     "name": "stdout",
     "output_type": "stream",
     "text": [
      "Hello sir kia hal chal hai app ka. kia kar raha hai, Aammar\n"
     ]
    }
   ],
   "source": [
    "print(\"Hello sir kia hal chal hai app ka. kia kar raha hai, {}\".format(\"Aammar\"))"
   ]
  },
  {
   "cell_type": "code",
   "execution_count": 63,
   "id": "60bbfb6b",
   "metadata": {},
   "outputs": [
    {
     "name": "stdout",
     "output_type": "stream",
     "text": [
      "Hello sir kia hal chal hai app ka.\n",
      " kia kar raha hai, Aammar\n"
     ]
    }
   ],
   "source": [
    "print(\"Hello sir kia hal chal hai app ka.\\n kia kar raha hai, {}\".format(\"Aammar\"))"
   ]
  },
  {
   "cell_type": "code",
   "execution_count": 64,
   "id": "de9e0b3d",
   "metadata": {},
   "outputs": [
    {
     "name": "stdout",
     "output_type": "stream",
     "text": [
      "hello,Aun\n"
     ]
    }
   ],
   "source": [
    "print(\"hello,{}\".format(\"Aun\"))"
   ]
  },
  {
   "cell_type": "code",
   "execution_count": 68,
   "id": "9eaf61b9",
   "metadata": {},
   "outputs": [
    {
     "name": "stdout",
     "output_type": "stream",
     "text": [
      "My name is Aun and I am 16 year old \n"
     ]
    }
   ],
   "source": [
    "# % formating\n",
    "name = \"Aun\"\n",
    "age = 16\n",
    "print(\"My name is %s and I am %d year old \"%(name,age))\n",
    "# %s is for string and %d is for integer"
   ]
  },
  {
   "cell_type": "code",
   "execution_count": 75,
   "id": "f7fa5277",
   "metadata": {},
   "outputs": [
    {
     "name": "stdout",
     "output_type": "stream",
     "text": [
      "His name is Haider and He is 17 year old.end=\n",
      " His education is Eight class \n"
     ]
    }
   ],
   "source": [
    "# % formating with break line\n",
    "name = \"Haider\"\n",
    "age = 17\n",
    "education = \"Eight class\"\n",
    "print(\"His name is %s and He is %d year old.end=\\n His education is %s \"%(name, age, education))"
   ]
  },
  {
   "cell_type": "code",
   "execution_count": 79,
   "id": "61f291f4",
   "metadata": {},
   "outputs": [
    {
     "name": "stdout",
     "output_type": "stream",
     "text": [
      "sys.stdout.erite is finction me likha hoa print ho gata ha or is me har likhe hoe lafaz ke ginti hoti ha"
     ]
    },
    {
     "data": {
      "text/plain": [
       "104"
      ]
     },
     "execution_count": 79,
     "metadata": {},
     "output_type": "execute_result"
    }
   ],
   "source": [
    "#sys.stdout.write()\n",
    "import sys\n",
    "sys.stdout.write(\"sys.stdout.erite is finction me likha hoa print ho gata ha or is me har likhe hoe lafaz ke ginti hoti ha\")"
   ]
  },
  {
   "cell_type": "code",
   "execution_count": 78,
   "id": "be71913f",
   "metadata": {},
   "outputs": [
    {
     "name": "stdout",
     "output_type": "stream",
     "text": [
      "Hello, Aun Abbas Noul! How are you I hope you are fine."
     ]
    },
    {
     "data": {
      "text/plain": [
       "55"
      ]
     },
     "execution_count": 78,
     "metadata": {},
     "output_type": "execute_result"
    }
   ],
   "source": [
    "import sys \n",
    "sys.stdout.write (\"Hello, Aun Abbas Noul! How are you I hope you are fine.\")"
   ]
  },
  {
   "cell_type": "code",
   "execution_count": 80,
   "id": "7f3b2e69",
   "metadata": {},
   "outputs": [
    {
     "name": "stdout",
     "output_type": "stream",
     "text": [
      "I am apython studant.\n",
      " My teacher name is Abid and baba Aammar "
     ]
    },
    {
     "data": {
      "text/plain": [
       "63"
      ]
     },
     "execution_count": 80,
     "metadata": {},
     "output_type": "execute_result"
    }
   ],
   "source": [
    "import sys \n",
    "sys.stdout.write (\"I am apython studant.\\n My teacher name is Abid and baba Aammar \")"
   ]
  },
  {
   "cell_type": "code",
   "execution_count": 85,
   "id": "3c9125b4",
   "metadata": {},
   "outputs": [
    {
     "name": "stdout",
     "output_type": "stream",
     "text": [
      "Hello, World!"
     ]
    }
   ],
   "source": [
    "# use end=\"\" print\n",
    "print(\"Hello, World\", end=\"!\")"
   ]
  },
  {
   "cell_type": "code",
   "execution_count": 87,
   "id": "1665dab1",
   "metadata": {},
   "outputs": [
    {
     "name": "stdout",
     "output_type": "stream",
     "text": [
      "We should alaways respect the teacher.\n",
      " A teacher is a apiritual Father!"
     ]
    }
   ],
   "source": [
    "print(\"We should alaways respect the teacher.\\n A teacher is a apiritual Father\",end=\"!\")"
   ]
  },
  {
   "cell_type": "code",
   "execution_count": 88,
   "id": "d24a07ad",
   "metadata": {},
   "outputs": [
    {
     "name": "stdout",
     "output_type": "stream",
     "text": [
      "Hello,\n",
      " how are you\n"
     ]
    }
   ],
   "source": [
    "# multi line print\n",
    "print(\"\"\"Hello,\n",
    " how are you\"\"\")"
   ]
  },
  {
   "cell_type": "code",
   "execution_count": 91,
   "id": "fc1e3ebd",
   "metadata": {},
   "outputs": [
    {
     "name": "stdout",
     "output_type": "stream",
     "text": [
      "meara naam Aun Abbas hai or mari cast Noul,\n",
      "meare baap ka naam Imran Ali hai me.\n",
      " Johdakay mee rehta ho. \n"
     ]
    }
   ],
   "source": [
    "print(\"\"\"meara naam Aun Abbas hai or mari cast Noul,\n",
    "meare baap ka naam Imran Ali hai me.\n",
    " Johdakay mee rehta ho. \"\"\")"
   ]
  },
  {
   "cell_type": "code",
   "execution_count": 96,
   "id": "837d813c",
   "metadata": {},
   "outputs": [
    {
     "name": "stdout",
     "output_type": "stream",
     "text": [
      "My name is Aun.\n",
      " and I am 17 years old.\n",
      " and I am studing in 10th class\n"
     ]
    }
   ],
   "source": [
    "# f string with multi line \n",
    "name = \"Aun\" \n",
    "Age = 16 \n",
    "education = \"10th\"\n",
    "print(f\"\"\"My name is {name}.\n",
    " and I am {age} years old.\n",
    " and I am studing in {education} class\"\"\")"
   ]
  },
  {
   "cell_type": "code",
   "execution_count": 101,
   "id": "64ecb0ab",
   "metadata": {},
   "outputs": [],
   "source": [
    "# print to a file\n",
    "with open(\"outputs.txt\", \"w\")as file:\n",
    "    print(\"Aun !\",file=file)"
   ]
  },
  {
   "cell_type": "code",
   "execution_count": null,
   "id": "91a83a67",
   "metadata": {},
   "outputs": [],
   "source": [
    "# print to a privios file\n"
   ]
  }
 ],
 "metadata": {
  "kernelspec": {
   "display_name": "Python 3",
   "language": "python",
   "name": "python3"
  },
  "language_info": {
   "codemirror_mode": {
    "name": "ipython",
    "version": 3
   },
   "file_extension": ".py",
   "mimetype": "text/x-python",
   "name": "python",
   "nbconvert_exporter": "python",
   "pygments_lexer": "ipython3",
   "version": "3.10.16"
  }
 },
 "nbformat": 4,
 "nbformat_minor": 5
}
