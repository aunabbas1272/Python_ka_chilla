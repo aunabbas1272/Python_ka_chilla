{
 "cells": [
  {
   "cell_type": "markdown",
   "id": "f3d80cf7",
   "metadata": {},
   "source": [
    "# Lambda funtion "
   ]
  },
  {
   "cell_type": "code",
   "execution_count": 4,
   "id": "9e3424fe",
   "metadata": {},
   "outputs": [],
   "source": [
    "# lambda function\n",
    "add_lambda = lambda a, b: a+b"
   ]
  },
  {
   "cell_type": "code",
   "execution_count": 5,
   "id": "89cec8ef",
   "metadata": {},
   "outputs": [
    {
     "data": {
      "text/plain": [
       "143"
      ]
     },
     "execution_count": 5,
     "metadata": {},
     "output_type": "execute_result"
    }
   ],
   "source": [
    "add_lambda(71, 72)"
   ]
  },
  {
   "cell_type": "code",
   "execution_count": 6,
   "id": "afef8ad8",
   "metadata": {},
   "outputs": [],
   "source": [
    "multiply_lambda = lambda a, b: a*b"
   ]
  },
  {
   "cell_type": "code",
   "execution_count": 7,
   "id": "85fdace8",
   "metadata": {},
   "outputs": [
    {
     "data": {
      "text/plain": [
       "1470"
      ]
     },
     "execution_count": 7,
     "metadata": {},
     "output_type": "execute_result"
    }
   ],
   "source": [
    "multiply_lambda(42, 35)"
   ]
  },
  {
   "cell_type": "code",
   "execution_count": 8,
   "id": "c812fa5d",
   "metadata": {},
   "outputs": [
    {
     "data": {
      "text/plain": [
       "4"
      ]
     },
     "execution_count": 8,
     "metadata": {},
     "output_type": "execute_result"
    }
   ],
   "source": [
    "multiply_lambda(2, 2)"
   ]
  },
  {
   "cell_type": "code",
   "execution_count": 9,
   "id": "9873183f",
   "metadata": {},
   "outputs": [],
   "source": [
    "minute_lambda = lambda a, b: a-b"
   ]
  },
  {
   "cell_type": "code",
   "execution_count": 10,
   "id": "ede15892",
   "metadata": {},
   "outputs": [
    {
     "data": {
      "text/plain": [
       "-11"
      ]
     },
     "execution_count": 10,
     "metadata": {},
     "output_type": "execute_result"
    }
   ],
   "source": [
    "minute_lambda(11,22)"
   ]
  },
  {
   "cell_type": "code",
   "execution_count": 11,
   "id": "899a5814",
   "metadata": {},
   "outputs": [
    {
     "data": {
      "text/plain": [
       "0"
      ]
     },
     "execution_count": 11,
     "metadata": {},
     "output_type": "execute_result"
    }
   ],
   "source": [
    "minute_lambda(11,11)"
   ]
  },
  {
   "cell_type": "code",
   "execution_count": 12,
   "id": "77003363",
   "metadata": {},
   "outputs": [],
   "source": [
    "divide_lambda = lambda a, b: a/b"
   ]
  },
  {
   "cell_type": "code",
   "execution_count": 13,
   "id": "5a5c947a",
   "metadata": {},
   "outputs": [
    {
     "data": {
      "text/plain": [
       "0.5"
      ]
     },
     "execution_count": 13,
     "metadata": {},
     "output_type": "execute_result"
    }
   ],
   "source": [
    "divide_lambda(4,8)"
   ]
  },
  {
   "cell_type": "code",
   "execution_count": 22,
   "id": "5600f0a7",
   "metadata": {},
   "outputs": [
    {
     "name": "stdout",
     "output_type": "stream",
     "text": [
      "[576, 625, 676, 729, 784, 841, 900]\n"
     ]
    }
   ],
   "source": [
    "number_lambda =[24, 25, 26, 27, 28, 29, 30]\n",
    "square = map(lambda x: x**2, number_lambda)\n",
    "print(list(square))"
   ]
  },
  {
   "cell_type": "code",
   "execution_count": 26,
   "id": "9d66392e",
   "metadata": {},
   "outputs": [
    {
     "name": "stdout",
     "output_type": "stream",
     "text": [
      "[1000, 8000, 27000, 64000, 125000]\n"
     ]
    }
   ],
   "source": [
    "number = [10, 20, 30, 40, 50]\n",
    "cube_lambda = map(lambda x: x**3, number)\n",
    "print(list(cube_lambda))"
   ]
  },
  {
   "cell_type": "code",
   "execution_count": 29,
   "id": "86d604f6",
   "metadata": {},
   "outputs": [
    {
     "name": "stdout",
     "output_type": "stream",
     "text": [
      "[1, 8, 27, 64, 125]\n"
     ]
    }
   ],
   "source": [
    "number = [1, 2, 3, 4, 5]\n",
    "cube_lambda = map(lambda x: x**3, number)\n",
    "print(list(cube_lambda))\n"
   ]
  }
 ],
 "metadata": {
  "kernelspec": {
   "display_name": "Python 3",
   "language": "python",
   "name": "python3"
  },
  "language_info": {
   "codemirror_mode": {
    "name": "ipython",
    "version": 3
   },
   "file_extension": ".py",
   "mimetype": "text/x-python",
   "name": "python",
   "nbconvert_exporter": "python",
   "pygments_lexer": "ipython3",
   "version": "3.10.16"
  }
 },
 "nbformat": 4,
 "nbformat_minor": 5
}
