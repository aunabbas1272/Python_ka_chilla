{
 "cells": [
  {
   "cell_type": "markdown",
   "id": "cbca62dd",
   "metadata": {},
   "source": [
    "# User Input"
   ]
  },
  {
   "cell_type": "code",
   "execution_count": 1,
   "id": "d4e48ca3",
   "metadata": {},
   "outputs": [],
   "source": [
    "age = input (\"My age is: \")\n"
   ]
  },
  {
   "cell_type": "code",
   "execution_count": 2,
   "id": "75467ea3",
   "metadata": {},
   "outputs": [],
   "source": [
    "age_1 = input (\"My age is\")\n",
    "age_1 = int(age)"
   ]
  },
  {
   "cell_type": "code",
   "execution_count": 3,
   "id": "37b22e49",
   "metadata": {},
   "outputs": [],
   "source": [
    "name = input (\"My name is:\")\n"
   ]
  },
  {
   "cell_type": "code",
   "execution_count": 6,
   "id": "1fa581b0",
   "metadata": {},
   "outputs": [
    {
     "name": "stdout",
     "output_type": "stream",
     "text": [
      "Hello, Aun Abbas!\n"
     ]
    }
   ],
   "source": [
    "name = input (\"My name is:\")\n",
    "print (\"Hello, \" + name + \"!\")\n"
   ]
  },
  {
   "cell_type": "code",
   "execution_count": 7,
   "id": "559afdd5",
   "metadata": {},
   "outputs": [
    {
     "name": "stdout",
     "output_type": "stream",
     "text": [
      "Asslam-o-Alikum, Aun Abbas!\n"
     ]
    }
   ],
   "source": [
    "name_1 = input (\"My name is:\")\n",
    "print (\"Asslam-o-Alikum, \" + name_1 + \"!\")\n"
   ]
  },
  {
   "cell_type": "code",
   "execution_count": 15,
   "id": "eeca36e3",
   "metadata": {},
   "outputs": [],
   "source": [
    "age = input (\"My age is: \")\n",
    "\n",
    "if age.isdigit():\n",
    "    age = int(age)\n",
    "else:\n",
    "    print(\"Warning! Invalid input. write age in numaric form\")"
   ]
  },
  {
   "cell_type": "code",
   "execution_count": 14,
   "id": "f50512b5",
   "metadata": {},
   "outputs": [],
   "source": [
    "lion_age = input (\"lion age is: \")\n",
    "if lion_age.isdigit():\n",
    "    lion_age = int(age)\n",
    "else:\n",
    "    print(\"Warning! Invalid input. write the lion age in numberic form\")"
   ]
  },
  {
   "cell_type": "code",
   "execution_count": 3,
   "id": "4a8d96b7",
   "metadata": {},
   "outputs": [
    {
     "name": "stdout",
     "output_type": "stream",
     "text": [
      "Hello,Aun! you are is 16\n"
     ]
    }
   ],
   "source": [
    "name = input (\"My name is: \")\n",
    "age = input (\"My age is: \")\n",
    "print(\"Hello,\" + name + \"! you are is \" + age )"
   ]
  },
  {
   "cell_type": "code",
   "execution_count": 4,
   "id": "ad86fc92",
   "metadata": {},
   "outputs": [
    {
     "name": "stdout",
     "output_type": "stream",
     "text": [
      "Hello, Aun! You are 16 years old.\n"
     ]
    }
   ],
   "source": [
    "name_1 = input (\"Enter the first name: \")\n",
    "name_2 = input (\"Enter the second name: \")\n",
    "age = input (\"Enter your age: \")\n",
    "print(\"Hello, \" + name + \"! You are \" + age + \" years old.\")"
   ]
  },
  {
   "cell_type": "code",
   "execution_count": 7,
   "id": "c9dcb5c8",
   "metadata": {},
   "outputs": [
    {
     "name": "stdout",
     "output_type": "stream",
     "text": [
      "Asslam o Alikum, Noul ! you are is 17 years old \n"
     ]
    }
   ],
   "source": [
    "name, age = input (\"Enter your name and age: \").split()\n",
    "print(\"Asslam o Alikum, \" + name + \" ! you are is \" + age + \" years old \")"
   ]
  },
  {
   "cell_type": "code",
   "execution_count": 29,
   "id": "fcc9cf44",
   "metadata": {},
   "outputs": [
    {
     "ename": "TypeError",
     "evalue": "'str' object is not callable",
     "output_type": "error",
     "traceback": [
      "\u001b[1;31m---------------------------------------------------------------------------\u001b[0m",
      "\u001b[1;31mTypeError\u001b[0m                                 Traceback (most recent call last)",
      "Cell \u001b[1;32mIn[29], line 2\u001b[0m\n\u001b[0;32m      1\u001b[0m name, age \u001b[38;5;241m=\u001b[39m \u001b[38;5;28minput\u001b[39m (\u001b[38;5;124m\"\u001b[39m\u001b[38;5;124mEnter your name and age: \u001b[39m\u001b[38;5;124m\"\u001b[39m)\u001b[38;5;241m.\u001b[39msplit()\n\u001b[1;32m----> 2\u001b[0m \u001b[38;5;28;43mprint\u001b[39;49m\u001b[43m(\u001b[49m\u001b[38;5;124;43m\"\u001b[39;49m\u001b[38;5;124;43mHello,\u001b[39;49m\u001b[38;5;124;43m\"\u001b[39;49m\u001b[43m \u001b[49m\u001b[38;5;241;43m+\u001b[39;49m\u001b[43m \u001b[49m\u001b[43mname\u001b[49m\u001b[43m \u001b[49m\u001b[38;5;241;43m+\u001b[39;49m\u001b[43m \u001b[49m\u001b[38;5;124;43m\"\u001b[39;49m\u001b[38;5;124;43m ! your are is \u001b[39;49m\u001b[38;5;124;43m\"\u001b[39;49m\u001b[43m \u001b[49m\u001b[38;5;241;43m+\u001b[39;49m\u001b[43m \u001b[49m\u001b[43mage\u001b[49m\u001b[43m \u001b[49m\u001b[38;5;241;43m+\u001b[39;49m\u001b[43m \u001b[49m\u001b[38;5;124;43m\"\u001b[39;49m\u001b[38;5;124;43m years old \u001b[39;49m\u001b[38;5;124;43m\"\u001b[39;49m\u001b[43m)\u001b[49m\n",
      "\u001b[1;31mTypeError\u001b[0m: 'str' object is not callable"
     ]
    }
   ],
   "source": [
    "name, age = input (\"Enter your name and age: \").split()\n",
    "print(\"Hello,\" + name + \" ! your are is \" + age + \" years old \")"
   ]
  }
 ],
 "metadata": {
  "kernelspec": {
   "display_name": "Python 3",
   "language": "python",
   "name": "python3"
  },
  "language_info": {
   "codemirror_mode": {
    "name": "ipython",
    "version": 3
   },
   "file_extension": ".py",
   "mimetype": "text/x-python",
   "name": "python",
   "nbconvert_exporter": "python",
   "pygments_lexer": "ipython3",
   "version": "3.10.16"
  }
 },
 "nbformat": 4,
 "nbformat_minor": 5
}
