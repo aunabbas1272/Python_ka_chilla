{
 "cells": [
  {
   "cell_type": "markdown",
   "id": "0f80f8a8",
   "metadata": {},
   "source": [
    "# Function "
   ]
  },
  {
   "cell_type": "markdown",
   "id": "03cf60ac",
   "metadata": {},
   "source": [
    "## biltin function"
   ]
  },
  {
   "cell_type": "code",
   "execution_count": 13,
   "id": "a864c9ff",
   "metadata": {},
   "outputs": [
    {
     "data": {
      "text/plain": [
       "3903"
      ]
     },
     "execution_count": 13,
     "metadata": {},
     "output_type": "execute_result"
    }
   ],
   "source": [
    "prices = [35,3455,45,324,44]\n",
    "sum(prices)"
   ]
  },
  {
   "cell_type": "code",
   "execution_count": 14,
   "id": "08595c37",
   "metadata": {},
   "outputs": [
    {
     "data": {
      "text/plain": [
       "3455"
      ]
     },
     "execution_count": 14,
     "metadata": {},
     "output_type": "execute_result"
    }
   ],
   "source": [
    "max(prices)"
   ]
  },
  {
   "cell_type": "code",
   "execution_count": 15,
   "id": "498bbbbd",
   "metadata": {},
   "outputs": [
    {
     "data": {
      "text/plain": [
       "35"
      ]
     },
     "execution_count": 15,
     "metadata": {},
     "output_type": "execute_result"
    }
   ],
   "source": [
    "min(prices)"
   ]
  },
  {
   "cell_type": "code",
   "execution_count": 19,
   "id": "a093c896",
   "metadata": {},
   "outputs": [
    {
     "name": "stdout",
     "output_type": "stream",
     "text": [
      "780.6\n"
     ]
    }
   ],
   "source": [
    "mean = sum(prices) / len(prices)\n",
    "print(mean)"
   ]
  },
  {
   "cell_type": "code",
   "execution_count": 20,
   "id": "3dd8769f",
   "metadata": {},
   "outputs": [
    {
     "name": "stdout",
     "output_type": "stream",
     "text": [
      "780.6\n"
     ]
    }
   ],
   "source": [
    "print(mean)"
   ]
  },
  {
   "cell_type": "markdown",
   "id": "5b3f5645",
   "metadata": {},
   "source": [
    "## User define funtion"
   ]
  },
  {
   "cell_type": "markdown",
   "id": "05cfe880",
   "metadata": {},
   "source": [
    "### Example 1"
   ]
  },
  {
   "cell_type": "code",
   "execution_count": 12,
   "id": "5181c4f0",
   "metadata": {},
   "outputs": [],
   "source": [
    "def greet(name):\n",
    "    \"\"\"This function greets the person passed in as a parameter\"\"\"\n",
    "    print(\"hello,\" + name + \".Good morning!\" + \" kese ho.\"+ \"I hope you are fine.\")"
   ]
  },
  {
   "cell_type": "code",
   "execution_count": 13,
   "id": "d38f9602",
   "metadata": {},
   "outputs": [
    {
     "name": "stdout",
     "output_type": "stream",
     "text": [
      "hello,Aun Abbas.Good morning! kese ho.I hope you are fine.\n"
     ]
    }
   ],
   "source": [
    "greet(\"Aun Abbas\")"
   ]
  },
  {
   "cell_type": "markdown",
   "id": "2b27e180",
   "metadata": {},
   "source": [
    "### example 2"
   ]
  },
  {
   "cell_type": "code",
   "execution_count": 24,
   "id": "ba0a7251",
   "metadata": {},
   "outputs": [],
   "source": [
    "def health(name):\n",
    "    \"\"\"This function about my mom health \"\"\"\n",
    "    print(\"Hello,\" + name + \" Asslam o Alaikum! \" + \". kase hae app\" +\". aap ki tabiyat kesi ha. \")"
   ]
  },
  {
   "cell_type": "code",
   "execution_count": 25,
   "id": "d4cd1e28",
   "metadata": {},
   "outputs": [
    {
     "name": "stdout",
     "output_type": "stream",
     "text": [
      "Hello,MOM Asslam o Alaikum! . kase hae app. aap ki tabiyat kesi ha. \n"
     ]
    }
   ],
   "source": [
    "health(\"MOM\")"
   ]
  },
  {
   "cell_type": "markdown",
   "id": "262a961d",
   "metadata": {},
   "source": [
    "### Example 3"
   ]
  },
  {
   "cell_type": "code",
   "execution_count": 28,
   "id": "62cdd868",
   "metadata": {},
   "outputs": [],
   "source": [
    "def health_of_brother(name):\n",
    "    \"\"\"this function about my brother health \"\"\"\n",
    "    print(\"Hello,\" + name + \"Asslam o Alaikum!\" + \". kase ho app\" + \".app ki tabiyat kase ha.\")\n"
   ]
  },
  {
   "cell_type": "code",
   "execution_count": 29,
   "id": "adedeca2",
   "metadata": {},
   "outputs": [
    {
     "name": "stdout",
     "output_type": "stream",
     "text": [
      "Hello,Gulfam HaiderAsslam o Alaikum!. kase ho app.app ki tabiyat kase ha.\n"
     ]
    }
   ],
   "source": [
    "health_of_brother(\"Gulfam Haider\")"
   ]
  },
  {
   "cell_type": "markdown",
   "id": "447c1000",
   "metadata": {},
   "source": [
    "### Example 4"
   ]
  },
  {
   "cell_type": "code",
   "execution_count": 32,
   "id": "b40db864",
   "metadata": {},
   "outputs": [],
   "source": [
    "def about_me(name, age):\n",
    "    \"\"\"This function prints information about me.\"\"\"\n",
    "    print(\"My name is \" + name + \" and my age is \" + str(age) + \" years old.\")\n"
   ]
  },
  {
   "cell_type": "code",
   "execution_count": 33,
   "id": "d6829637",
   "metadata": {},
   "outputs": [
    {
     "name": "stdout",
     "output_type": "stream",
     "text": [
      "My name is Aun Abbas and my age is 16 years old.\n"
     ]
    }
   ],
   "source": [
    "about_me(\"Aun Abbas\", 16)"
   ]
  },
  {
   "cell_type": "markdown",
   "id": "a0a3f28e",
   "metadata": {},
   "source": [
    "## Example 5"
   ]
  },
  {
   "cell_type": "code",
   "execution_count": 38,
   "id": "371a7e4c",
   "metadata": {},
   "outputs": [],
   "source": [
    "def add(a , b):\n",
    "    \"\"\"this function adds two numbers.\"\"\"\n",
    "    return a + b"
   ]
  },
  {
   "cell_type": "code",
   "execution_count": 39,
   "id": "658bd76a",
   "metadata": {},
   "outputs": [
    {
     "data": {
      "text/plain": [
       "15"
      ]
     },
     "execution_count": 39,
     "metadata": {},
     "output_type": "execute_result"
    }
   ],
   "source": [
    "add(5, 10 )"
   ]
  },
  {
   "cell_type": "code",
   "execution_count": 40,
   "id": "6fcb5bd3",
   "metadata": {},
   "outputs": [
    {
     "data": {
      "text/plain": [
       "1032"
      ]
     },
     "execution_count": 40,
     "metadata": {},
     "output_type": "execute_result"
    }
   ],
   "source": [
    "add(246,786)"
   ]
  },
  {
   "cell_type": "markdown",
   "id": "2ea13819",
   "metadata": {},
   "source": [
    "### Example 6"
   ]
  },
  {
   "cell_type": "code",
   "execution_count": 41,
   "id": "bf9e45b2",
   "metadata": {},
   "outputs": [],
   "source": [
    "def add(a,b,c):\n",
    "    \"\"\"This funtion adds three numbers.\"\"\"\n",
    "    return a + b + c"
   ]
  },
  {
   "cell_type": "code",
   "execution_count": 42,
   "id": "873edacc",
   "metadata": {},
   "outputs": [
    {
     "data": {
      "text/plain": [
       "10734"
      ]
     },
     "execution_count": 42,
     "metadata": {},
     "output_type": "execute_result"
    }
   ],
   "source": [
    "add(3734,4566,2434)"
   ]
  },
  {
   "cell_type": "markdown",
   "id": "e5094e3a",
   "metadata": {},
   "source": [
    "### Example 7"
   ]
  },
  {
   "cell_type": "markdown",
   "id": "ec6c322f",
   "metadata": {},
   "source": [
    "#### This function with parameter"
   ]
  },
  {
   "cell_type": "code",
   "execution_count": 55,
   "id": "22fd2b19",
   "metadata": {},
   "outputs": [],
   "source": [
    "def say_hello(name=\"Noul\"):\n",
    "    \"\"\"This function says hello to the person passed in as a parameter.\"\"\"\n",
    "    print(\"Hello, \" + name + \". From Johdkay\")\n"
   ]
  },
  {
   "cell_type": "code",
   "execution_count": 59,
   "id": "a306131e",
   "metadata": {},
   "outputs": [
    {
     "name": "stdout",
     "output_type": "stream",
     "text": [
      "Hello, Noul. From Johdkay\n"
     ]
    }
   ],
   "source": [
    "say_hello()"
   ]
  },
  {
   "cell_type": "markdown",
   "id": "3868548b",
   "metadata": {},
   "source": [
    "## Example 8"
   ]
  },
  {
   "cell_type": "code",
   "execution_count": 63,
   "id": "4aa5b37c",
   "metadata": {},
   "outputs": [],
   "source": [
    "def say_hi(name=\"Bahadur\"):\n",
    "    \"\"\"This function says hi to the person passed in as a parameter.\"\"\"\n",
    "    print(\"Hi,\" + name + \". From sharaqpur\")"
   ]
  },
  {
   "cell_type": "code",
   "execution_count": 64,
   "id": "aec53219",
   "metadata": {},
   "outputs": [
    {
     "name": "stdout",
     "output_type": "stream",
     "text": [
      "Hi,Bahadur. From sharaqpur\n"
     ]
    }
   ],
   "source": [
    "say_hi()"
   ]
  },
  {
   "cell_type": "markdown",
   "id": "d34337ec",
   "metadata": {},
   "source": [
    "## Example 9"
   ]
  },
  {
   "cell_type": "code",
   "execution_count": 66,
   "id": "b264287f",
   "metadata": {},
   "outputs": [],
   "source": [
    "def nafi (a,b):\n",
    "    \"\"\"This funtion nafi two numbers.\"\"\"\n",
    "    return a - b"
   ]
  },
  {
   "cell_type": "code",
   "execution_count": 67,
   "id": "3f8e6650",
   "metadata": {},
   "outputs": [
    {
     "data": {
      "text/plain": [
       "-5"
      ]
     },
     "execution_count": 67,
     "metadata": {},
     "output_type": "execute_result"
    }
   ],
   "source": [
    "nafi(5, 10)"
   ]
  },
  {
   "cell_type": "code",
   "execution_count": 68,
   "id": "b3762032",
   "metadata": {},
   "outputs": [
    {
     "data": {
      "text/plain": [
       "50"
      ]
     },
     "execution_count": 68,
     "metadata": {},
     "output_type": "execute_result"
    }
   ],
   "source": [
    "nafi(100, 50)"
   ]
  }
 ],
 "metadata": {
  "kernelspec": {
   "display_name": "Python 3",
   "language": "python",
   "name": "python3"
  },
  "language_info": {
   "codemirror_mode": {
    "name": "ipython",
    "version": 3
   },
   "file_extension": ".py",
   "mimetype": "text/x-python",
   "name": "python",
   "nbconvert_exporter": "python",
   "pygments_lexer": "ipython3",
   "version": "3.10.16"
  }
 },
 "nbformat": 4,
 "nbformat_minor": 5
}
