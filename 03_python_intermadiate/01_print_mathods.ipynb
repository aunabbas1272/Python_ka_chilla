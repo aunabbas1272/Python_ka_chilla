{
 "cells": [
  {
   "cell_type": "markdown",
   "id": "0b898bbe",
   "metadata": {},
   "source": [
    "# print funtion methods\n"
   ]
  },
  {
   "cell_type": "code",
   "execution_count": 7,
   "id": "1347428b",
   "metadata": {},
   "outputs": [
    {
     "name": "stdout",
     "output_type": "stream",
     "text": [
      "My name is Aun\n",
      "Hello,codanics\n",
      "Hello Codanics\n",
      "Hello,Codanics\n",
      "Hello:Codanics\n"
     ]
    }
   ],
   "source": [
    "print(\"My name is Aun\")\n",
    "print(\"Hello,codanics\")\n",
    "print(\"Hello\", \"Codanics\")\n",
    "print(\"Hello\", \"Codanics\", sep=\",\")\n",
    "print(\"Hello\", \"Codanics\",sep=\":\",end=\"\\n\")\n"
   ]
  },
  {
   "cell_type": "code",
   "execution_count": 13,
   "id": "bd8be3bb",
   "metadata": {},
   "outputs": [
    {
     "name": "stdout",
     "output_type": "stream",
     "text": [
      "Hello, My name is Aun and I am 16 years old.How are you?\n"
     ]
    }
   ],
   "source": [
    "# f string\n",
    "name = \"Aun\"\n",
    "age = 16\n",
    "final = \"How are you?\" \n",
    "print(f\"Hello, My name is {name} and I am {age} years old.{final}\")"
   ]
  },
  {
   "cell_type": "code",
   "execution_count": 12,
   "id": "ed63c2c6",
   "metadata": {},
   "outputs": [
    {
     "name": "stdout",
     "output_type": "stream",
     "text": [
      "Hello, My name is Aun and I am 16 years old.\n",
      "How are you?\n"
     ]
    }
   ],
   "source": [
    "# f string with line break\n",
    "name = \"Aun\"\n",
    "age = 16\n",
    "final = \"How are you?\" \n",
    "print(f\"Hello, My name is {name} and I am {age} years old.\\n{final}\")"
   ]
  },
  {
   "cell_type": "code",
   "execution_count": 19,
   "id": "2f632bfe",
   "metadata": {},
   "outputs": [
    {
     "name": "stdout",
     "output_type": "stream",
     "text": [
      "Hello, codanics!\n"
     ]
    }
   ],
   "source": [
    "# str. format()\n",
    "print(\"Hello, {}!\".format(\"codanics\"))"
   ]
  },
  {
   "cell_type": "code",
   "execution_count": 23,
   "id": "6067d6a2",
   "metadata": {},
   "outputs": [
    {
     "name": "stdout",
     "output_type": "stream",
     "text": [
      "My name is Aun and I am 16 years old.\n"
     ]
    }
   ],
   "source": [
    "# % formating\n",
    "name = \"Aun\" \n",
    "age = 16\n",
    "print(\"My name is %s and I am %d years old.\"%(name, age))\n",
    "# %s is for string and %d is for integer\n"
   ]
  },
  {
   "cell_type": "code",
   "execution_count": 27,
   "id": "2db3b651",
   "metadata": {},
   "outputs": [
    {
     "name": "stdout",
     "output_type": "stream",
     "text": [
      "hello, codanics"
     ]
    },
    {
     "data": {
      "text/plain": [
       "15"
      ]
     },
     "execution_count": 27,
     "metadata": {},
     "output_type": "execute_result"
    }
   ],
   "source": [
    "# sys.stdout.write()\n",
    "import sys\n",
    "sys.stdout.write(\"hello, codanics\")"
   ]
  },
  {
   "cell_type": "code",
   "execution_count": 28,
   "id": "f30c0c86",
   "metadata": {},
   "outputs": [
    {
     "name": "stdout",
     "output_type": "stream",
     "text": [
      "Hello!"
     ]
    }
   ],
   "source": [
    "# use end=\"\" in print\n",
    "print(\"Hello\", end=\"!\") "
   ]
  },
  {
   "cell_type": "code",
   "execution_count": 33,
   "id": "af097254",
   "metadata": {},
   "outputs": [
    {
     "name": "stdout",
     "output_type": "stream",
     "text": [
      "Hello Codanics!,\n",
      "Hoow are you?\n",
      "        I am fine\n"
     ]
    }
   ],
   "source": [
    "#multi-line print\n",
    "print(\"\"\"Hello Codanics!,\n",
    "Hoow are you?\n",
    "        I am fine\"\"\")\n"
   ]
  },
  {
   "cell_type": "code",
   "execution_count": 36,
   "id": "035ac9c5",
   "metadata": {},
   "outputs": [
    {
     "name": "stdout",
     "output_type": "stream",
     "text": [
      "My name is Aun and I am 20 year old.\n",
      "How are you?\n"
     ]
    }
   ],
   "source": [
    "# f- string with multi line\n",
    "name = \"Aun\"\n",
    "age = 20\n",
    "final = \"How are you?\"\n",
    "print(f\"\"\"My name is {name} and I am {age} year old.\n",
    "{final}\"\"\")"
   ]
  },
  {
   "cell_type": "code",
   "execution_count": 51,
   "id": "dabcb738",
   "metadata": {},
   "outputs": [],
   "source": [
    "# Print to a file\n",
    "with open('output.txt', 'w') as file:\n",
    "    print(\"Aun !\", file=file)"
   ]
  },
  {
   "cell_type": "code",
   "execution_count": 52,
   "id": "c3898419",
   "metadata": {},
   "outputs": [],
   "source": [
    " # print to a file in previous directory\n",
    "with open(\"../print_to_file.txt\", \"w\")as file:\n",
    "    print(\"Aun !\", file=file)"
   ]
  },
  {
   "cell_type": "code",
   "execution_count": 53,
   "id": "6f4ea269",
   "metadata": {},
   "outputs": [],
   "source": [
    "# print to a file \n",
    "with open(\"output.txt\",\"w\")as file:\n",
    "    print(\"python !\",file=file)"
   ]
  },
  {
   "cell_type": "code",
   "execution_count": 55,
   "id": "6c1c0df3",
   "metadata": {},
   "outputs": [],
   "source": [
    "# print to a file in previos directory\n",
    "with open(\"../print_to_file.txt\",\"w\")as file:\n",
    "    print(\"python !\",file=file)"
   ]
  },
  {
   "cell_type": "code",
   "execution_count": 56,
   "id": "fd830efc",
   "metadata": {},
   "outputs": [
    {
     "ename": "SyntaxError",
     "evalue": "unterminated string literal (detected at line 5) (791179473.py, line 5)",
     "output_type": "error",
     "traceback": [
      "\u001b[1;36m  Cell \u001b[1;32mIn[56], line 5\u001b[1;36m\u001b[0m\n\u001b[1;33m    print(f\"Hello, my name is {self.name} and I am {self.age}\u001b[0m\n\u001b[1;37m          ^\u001b[0m\n\u001b[1;31mSyntaxError\u001b[0m\u001b[1;31m:\u001b[0m unterminated string literal (detected at line 5)\n"
     ]
    }
   ],
   "source": [
    "def _init_(self, name, age):\n",
    "    self.name = \"Aun\"\n",
    "    self.age = 16\n",
    "    def greet(self):\n",
    "        print(f\"Hello, my name is {self.name} and I am {self.age}"
   ]
  },
  {
   "cell_type": "code",
   "execution_count": 57,
   "id": "e55189ca",
   "metadata": {},
   "outputs": [
    {
     "name": "stdout",
     "output_type": "stream",
     "text": [
      "Hello, my name is Aun and I am 16\n"
     ]
    }
   ],
   "source": [
    "class Person:\n",
    "    def __init__(self, name, age):\n",
    "        self.name = name\n",
    "        self.age = age\n",
    "\n",
    "    def greet(self):\n",
    "        print(f\"Hello, my name is {self.name} and I am {self.age}\")\n",
    "\n",
    "# Create an object\n",
    "p1 = Person(\"Aun\", 16)\n",
    "\n",
    "# Call the method\n",
    "p1.greet()\n"
   ]
  }
 ],
 "metadata": {
  "kernelspec": {
   "display_name": "Python 3",
   "language": "python",
   "name": "python3"
  },
  "language_info": {
   "codemirror_mode": {
    "name": "ipython",
    "version": 3
   },
   "file_extension": ".py",
   "mimetype": "text/x-python",
   "name": "python",
   "nbconvert_exporter": "python",
   "pygments_lexer": "ipython3",
   "version": "3.10.16"
  }
 },
 "nbformat": 4,
 "nbformat_minor": 5
}
