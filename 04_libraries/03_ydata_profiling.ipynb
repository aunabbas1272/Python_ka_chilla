{
 "cells": [
  {
   "cell_type": "markdown",
   "id": "31053799",
   "metadata": {},
   "source": [
    "# EDA using ydata profiling"
   ]
  },
  {
   "cell_type": "code",
   "execution_count": 2,
   "id": "9773264f",
   "metadata": {},
   "outputs": [],
   "source": [
    "import pandas as pd\n",
    "import numpy as np\n",
    "from ydata_profiling import ProfileReport\n",
    "# import tqdm as notebook_tiqdm\n",
    "\n"
   ]
  },
  {
   "cell_type": "code",
   "execution_count": 7,
   "id": "fdd06562",
   "metadata": {},
   "outputs": [],
   "source": [
    "# load the data\n",
    "df = pd.read_excel(\"./dataframes/titanic_df.xlsx\")"
   ]
  },
  {
   "cell_type": "code",
   "execution_count": 8,
   "id": "ee6bf241",
   "metadata": {},
   "outputs": [],
   "source": [
    "profile = ProfileReport(df,title=\"titanic Profiling Report \")"
   ]
  },
  {
   "cell_type": "code",
   "execution_count": 14,
   "id": "9309d9b8",
   "metadata": {},
   "outputs": [
    {
     "data": {
      "application/vnd.jupyter.widget-view+json": {
       "model_id": "878aa64830e644cd884c6828f2d0abac",
       "version_major": 2,
       "version_minor": 0
      },
      "text/plain": [
       "Export report to file:   0%|          | 0/1 [00:00<?, ?it/s]"
      ]
     },
     "metadata": {},
     "output_type": "display_data"
    }
   ],
   "source": [
    "profile.to_file(\"./ydataprofile_reports/01_titanic_report.html\")"
   ]
  },
  {
   "cell_type": "code",
   "execution_count": null,
   "id": "778eec5a",
   "metadata": {},
   "outputs": [],
   "source": [
    "import pandas as pd\n",
    "import numpy as np\n",
    "from ydata_profiling import ProfileReport\n",
    "# import tqdm as notebook_tiqdm\n",
    "# load the data\n",
    "df = pd.read_excel(\"./dataframes/titanic_df.xlsx\")\n",
    "profile = ProfileReport(df,title=\"titanic Profiling Report \")\n",
    "profile.to_file(\"./ydataprofile_reports/01_titanic_report.html\")"
   ]
  }
 ],
 "metadata": {
  "kernelspec": {
   "display_name": "ydataprofiling",
   "language": "python",
   "name": "python3"
  },
  "language_info": {
   "codemirror_mode": {
    "name": "ipython",
    "version": 3
   },
   "file_extension": ".py",
   "mimetype": "text/x-python",
   "name": "python",
   "nbconvert_exporter": "python",
   "pygments_lexer": "ipython3",
   "version": "3.10.0"
  }
 },
 "nbformat": 4,
 "nbformat_minor": 5
}
