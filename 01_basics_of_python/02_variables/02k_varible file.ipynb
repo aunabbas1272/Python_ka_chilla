{
 "cells": [
  {
   "cell_type": "markdown",
   "id": "e62f86a1",
   "metadata": {},
   "source": [
    "# 🐍💻 Python Variable Types  \n",
    "\" if you found this notebook helpful, please leave a vote and comment!\\\n",
    "if no, feel free to share your suggestions for improvement!\"\n",
    "\n",
    "\n",
    "Let's learn Python variable types with examples, and simple language!"
   ]
  },
  {
   "cell_type": "markdown",
   "id": "9e238b95",
   "metadata": {},
   "source": [
    "## 1️⃣ Integer (int) – Whole Numbers 🔢\n",
    "Used for full numbers like age, marks, or quantity."
   ]
  },
  {
   "cell_type": "code",
   "execution_count": 1,
   "id": "1c471e7c",
   "metadata": {},
   "outputs": [
    {
     "name": "stdout",
     "output_type": "stream",
     "text": [
      "<class 'int'>\n"
     ]
    }
   ],
   "source": [
    "age = 22\n",
    "print(type(age))  # <class 'int'>"
   ]
  },
  {
   "cell_type": "markdown",
   "id": "274d2a6f",
   "metadata": {},
   "source": [
    "📌 Example: 22, 1990, -5"
   ]
  },
  {
   "cell_type": "markdown",
   "id": "342d8aad",
   "metadata": {},
   "source": [
    "## 2️⃣ Float (float) – Decimal Numbers 💧\n",
    "For numbers with points, like weight or price.\n",
    "\n",
    "python\n",
    "Copy code\n"
   ]
  },
  {
   "cell_type": "code",
   "execution_count": 4,
   "id": "6fef9877",
   "metadata": {},
   "outputs": [
    {
     "name": "stdout",
     "output_type": "stream",
     "text": [
      "<class 'float'>\n"
     ]
    }
   ],
   "source": [
    "weight = 65.5\n",
    "print(type(weight)) # <class 'float'>"
   ]
  },
  {
   "cell_type": "markdown",
   "id": "2940fa0e",
   "metadata": {},
   "source": [
    "📌 Example: 3.14, 99.99, -1.5"
   ]
  },
  {
   "cell_type": "markdown",
   "id": "d66dbee1",
   "metadata": {},
   "source": [
    "## 3️⃣ String (str) – Text Data ✍️\n",
    "Used for names, city names, or any text."
   ]
  },
  {
   "cell_type": "code",
   "execution_count": 5,
   "id": "569df943",
   "metadata": {},
   "outputs": [
    {
     "name": "stdout",
     "output_type": "stream",
     "text": [
      "<class 'str'>\n"
     ]
    }
   ],
   "source": [
    "name = \"Ali\"\n",
    "print(type(name)) # <class 'str'>  "
   ]
  },
  {
   "cell_type": "markdown",
   "id": "b8082487",
   "metadata": {},
   "source": [
    "📌 Example: \"Lahore\", \"Hello World\"\n",
    "\n"
   ]
  },
  {
   "cell_type": "markdown",
   "id": "658db9ee",
   "metadata": {},
   "source": [
    "## 4️⃣ Boolean (bool) – True or False ✅❌\n",
    "When you need yes/no or on/off type answers."
   ]
  },
  {
   "cell_type": "code",
   "execution_count": 17,
   "id": "dbd35ad1",
   "metadata": {},
   "outputs": [
    {
     "name": "stdout",
     "output_type": "stream",
     "text": [
      "<class 'bool'>\n"
     ]
    }
   ],
   "source": [
    "is_raining = False\n",
    "print(type(is_raining))  # <class 'bool'>"
   ]
  },
  {
   "cell_type": "markdown",
   "id": "a0882c9c",
   "metadata": {},
   "source": [
    "📌 Example: True, False\n",
    "\n"
   ]
  },
  {
   "cell_type": "markdown",
   "id": "d736591b",
   "metadata": {},
   "source": [
    "## 5️⃣ List (list) – Ordered Collection 📋\n",
    "Used to store multiple items like a to-do list or cities."
   ]
  },
  {
   "cell_type": "code",
   "execution_count": 16,
   "id": "b733d566",
   "metadata": {},
   "outputs": [
    {
     "name": "stdout",
     "output_type": "stream",
     "text": [
      "<class 'list'>\n"
     ]
    }
   ],
   "source": [
    "cities = [\"Karachi\", \"Lahore\", \"Islamabad\"]\n",
    "print(type(cities))  # <class 'list'>"
   ]
  },
  {
   "cell_type": "markdown",
   "id": "31ae5e12",
   "metadata": {},
   "source": [
    "📌 Example: [\"chai\", \"biryani\", \"korma\"]"
   ]
  },
  {
   "cell_type": "markdown",
   "id": "a7525c71",
   "metadata": {},
   "source": [
    "## 6️⃣ Tuple (tuple) – Fixed Data Set 📦\n",
    "Just like a list, but once made, can’t be changed."
   ]
  },
  {
   "cell_type": "code",
   "execution_count": 15,
   "id": "d5dcb327",
   "metadata": {},
   "outputs": [
    {
     "name": "stdout",
     "output_type": "stream",
     "text": [
      "<class 'tuple'>\n"
     ]
    }
   ],
   "source": [
    "dimensions = (1920, 1080)\n",
    "print(type(dimensions))  # <class 'tuple'>"
   ]
  },
  {
   "cell_type": "markdown",
   "id": "7d754549",
   "metadata": {},
   "source": [
    "📌 Example: (latitude, longitude)\n",
    "\n"
   ]
  },
  {
   "cell_type": "markdown",
   "id": "a4c7deb0",
   "metadata": {},
   "source": [
    "## 7️⃣ Set (set) – Unique Items Only 🧮\n",
    "A group of items, but no duplicates allowed."
   ]
  },
  {
   "cell_type": "code",
   "execution_count": null,
   "id": "c9595c28",
   "metadata": {},
   "outputs": [
    {
     "name": "stdout",
     "output_type": "stream",
     "text": [
      "<class 'set'>\n"
     ]
    }
   ],
   "source": [
    "lucky_numbers = {7, 3, 5, 3}\n",
    "print(type(lucky_numbers))  # <class 'set'>"
   ]
  },
  {
   "cell_type": "markdown",
   "id": "ddb4c7e4",
   "metadata": {},
   "source": [
    "📌 Example: {1, 2, 3} — no repeats!"
   ]
  },
  {
   "cell_type": "markdown",
   "id": "66b53f99",
   "metadata": {},
   "source": [
    "## 8️⃣ Dictionary (dict) – Key & Value Pair 🗝️📦\n",
    "Perfect for storing data like name and age together."
   ]
  },
  {
   "cell_type": "code",
   "execution_count": 18,
   "id": "b75f7ff4",
   "metadata": {},
   "outputs": [
    {
     "name": "stdout",
     "output_type": "stream",
     "text": [
      "<class 'dict'>\n"
     ]
    }
   ],
   "source": [
    "student = {\"name\": \"Sara\", \"age\": 21}\n",
    "print(type(student))  # <class 'dict'>"
   ]
  },
  {
   "cell_type": "markdown",
   "id": "3bb9b7cc",
   "metadata": {},
   "source": [
    "📌 Example: {\"city\": \"Lahore\", \"temp\": 35}\n",
    "\n"
   ]
  },
  {
   "cell_type": "markdown",
   "id": "6d1c91ee",
   "metadata": {},
   "source": [
    "## 9️⃣ NoneType (None) – Empty Value 🚫\n",
    "When you want to say “nothing here yet”."
   ]
  },
  {
   "cell_type": "code",
   "execution_count": 19,
   "id": "87558233",
   "metadata": {},
   "outputs": [
    {
     "name": "stdout",
     "output_type": "stream",
     "text": [
      "<class 'NoneType'>\n"
     ]
    }
   ],
   "source": [
    "status = None\n",
    "print(type(status))  # <class 'NoneType'>"
   ]
  },
  {
   "cell_type": "markdown",
   "id": "34f97332",
   "metadata": {},
   "source": [
    "📌 Example: Used when you don’t have a value yet"
   ]
  },
  {
   "cell_type": "markdown",
   "id": "f373387e",
   "metadata": {},
   "source": [
    "# 10. Complex"
   ]
  },
  {
   "cell_type": "code",
   "execution_count": 14,
   "id": "664416b4",
   "metadata": {},
   "outputs": [
    {
     "name": "stdout",
     "output_type": "stream",
     "text": [
      "<class 'complex'>\n"
     ]
    }
   ],
   "source": [
    "complex = 1 + 2j\n",
    "print(type(complex))  # <class 'complex'>"
   ]
  },
  {
   "cell_type": "markdown",
   "id": "e54a13bb",
   "metadata": {},
   "source": [
    "📌 Eamples: [5 + 7j,6 + 9j]"
   ]
  },
  {
   "cell_type": "markdown",
   "id": "0ebc5118",
   "metadata": {},
   "source": [
    "## 📊 Summary – All in One Glance 👀"
   ]
  },
  {
   "cell_type": "markdown",
   "id": "7fac19dc",
   "metadata": {},
   "source": [
    "| 🔢 Type    | Python Name | Example             | Use Case                   |\n",
    "| ---------- | ----------- | ------------------- | -------------------------- |\n",
    "| Integer    | `int`       | `x = 100`           | Age, marks, quantity       |\n",
    "| Float      | `float`     | `pi = 3.14`         | Weight, price              |\n",
    "| String     | `str`       | `name = \"Ali\"`      | Names, text                |\n",
    "| Boolean    | `bool`      | `is_on = True`      | Yes/No, True/False         |\n",
    "| List       | `list`      | `[\"tea\", \"coffee\"]` | Multiple values (editable) |\n",
    "| Tuple      | `tuple`     | `(1024, 768)`       | Fixed values               |\n",
    "| Set        | `set`       | `{1, 2, 3}`         | Unique items               |\n",
    "| Dictionary | `dict`      | `{\"name\": \"Sara\"}`  | Key-value data             |\n",
    "| NoneType   | `None`      | `value = None`      | No value yet               |\n"
   ]
  }
 ],
 "metadata": {
  "kernelspec": {
   "display_name": "Python 3",
   "language": "python",
   "name": "python3"
  },
  "language_info": {
   "codemirror_mode": {
    "name": "ipython",
    "version": 3
   },
   "file_extension": ".py",
   "mimetype": "text/x-python",
   "name": "python",
   "nbconvert_exporter": "python",
   "pygments_lexer": "ipython3",
   "version": "3.10.16"
  }
 },
 "nbformat": 4,
 "nbformat_minor": 5
}
