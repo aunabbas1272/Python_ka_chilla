{
 "cells": [
  {
   "cell_type": "markdown",
   "id": "87070953",
   "metadata": {},
   "source": [
    "# Functions"
   ]
  },
  {
   "cell_type": "markdown",
   "id": "d9703458",
   "metadata": {},
   "source": [
    "## Builtin functions"
   ]
  },
  {
   "cell_type": "code",
   "execution_count": 1,
   "id": "bf63e0a7",
   "metadata": {},
   "outputs": [
    {
     "data": {
      "text/plain": [
       "2000"
      ]
     },
     "execution_count": 1,
     "metadata": {},
     "output_type": "execute_result"
    }
   ],
   "source": [
    "prices = [200,300,400,500,600]\n",
    "sum(prices)"
   ]
  },
  {
   "cell_type": "code",
   "execution_count": 2,
   "id": "22a515d8",
   "metadata": {},
   "outputs": [
    {
     "data": {
      "text/plain": [
       "600"
      ]
     },
     "execution_count": 2,
     "metadata": {},
     "output_type": "execute_result"
    }
   ],
   "source": [
    "max(prices)"
   ]
  },
  {
   "cell_type": "code",
   "execution_count": 3,
   "id": "51cc9388",
   "metadata": {},
   "outputs": [
    {
     "data": {
      "text/plain": [
       "200"
      ]
     },
     "execution_count": 3,
     "metadata": {},
     "output_type": "execute_result"
    }
   ],
   "source": [
    "min(prices)"
   ]
  },
  {
   "cell_type": "code",
   "execution_count": 4,
   "id": "35526248",
   "metadata": {},
   "outputs": [
    {
     "name": "stdout",
     "output_type": "stream",
     "text": [
      "400.0\n"
     ]
    }
   ],
   "source": [
    "mean = sum(prices) / len(prices)\n",
    "print(mean)"
   ]
  },
  {
   "cell_type": "markdown",
   "id": "5e278fd8",
   "metadata": {},
   "source": [
    "## User defined functions"
   ]
  },
  {
   "cell_type": "code",
   "execution_count": 5,
   "id": "30abb088",
   "metadata": {},
   "outputs": [],
   "source": [
    "def greet(name):\n",
    "    \"\"\"This function greets to the person passed in as a parameter\"\"\"\n",
    "    print(\"Hello, \" + name + \". Asslam-o-Alikum!\")"
   ]
  },
  {
   "cell_type": "code",
   "execution_count": 6,
   "id": "51ad484d",
   "metadata": {},
   "outputs": [
    {
     "name": "stdout",
     "output_type": "stream",
     "text": [
      "Hello, Aun Abbas. Asslam-o-Alikum!\n"
     ]
    }
   ],
   "source": [
    "greet(\"Aun Abbas\")"
   ]
  },
  {
   "cell_type": "code",
   "execution_count": 7,
   "id": "60fcc783",
   "metadata": {},
   "outputs": [
    {
     "name": "stdout",
     "output_type": "stream",
     "text": [
      "Hello, Noul. Asslam-o-Alikum!\n"
     ]
    }
   ],
   "source": [
    "greet(\"Noul\")"
   ]
  },
  {
   "cell_type": "markdown",
   "id": "4cbd4f1d",
   "metadata": {},
   "source": [
    "define mean functions"
   ]
  },
  {
   "cell_type": "code",
   "execution_count": null,
   "id": "0de1c65b",
   "metadata": {},
   "outputs": [],
   "source": [
    "def mean_of_list(numbers):\n",
    "    \"\"\"This function returns the mean of a list of numbers\"\"\"\n",
    "    # return the mean and around it off to 2 decimal places\n",
    "    return sum(numbers) / len(numbers)"
   ]
  },
  {
   "cell_type": "code",
   "execution_count": 33,
   "id": "9657999f",
   "metadata": {},
   "outputs": [
    {
     "data": {
      "text/plain": [
       "424.6666666666667"
      ]
     },
     "execution_count": 33,
     "metadata": {},
     "output_type": "execute_result"
    }
   ],
   "source": [
    "prices = [200,300,400,500,600,456,789,43,534]\n",
    "mean_of_list(prices)"
   ]
  },
  {
   "cell_type": "code",
   "execution_count": 10,
   "id": "16c16653",
   "metadata": {},
   "outputs": [
    {
     "name": "stdout",
     "output_type": "stream",
     "text": [
      "Object `mean_of_list(numbers)` not found.\n"
     ]
    }
   ],
   "source": [
    "?mean_of_list(numbers)"
   ]
  },
  {
   "cell_type": "code",
   "execution_count": 11,
   "id": "28432c47",
   "metadata": {},
   "outputs": [],
   "source": [
    "prices = [234,567,890,9,23,34]"
   ]
  },
  {
   "cell_type": "code",
   "execution_count": 12,
   "id": "00f0af0e",
   "metadata": {},
   "outputs": [
    {
     "data": {
      "text/plain": [
       "1757"
      ]
     },
     "execution_count": 12,
     "metadata": {},
     "output_type": "execute_result"
    }
   ],
   "source": [
    "sum(prices)"
   ]
  },
  {
   "cell_type": "code",
   "execution_count": 13,
   "id": "12c4d8ec",
   "metadata": {},
   "outputs": [
    {
     "data": {
      "text/plain": [
       "890"
      ]
     },
     "execution_count": 13,
     "metadata": {},
     "output_type": "execute_result"
    }
   ],
   "source": [
    "max(prices)"
   ]
  },
  {
   "cell_type": "code",
   "execution_count": 14,
   "id": "fff5c7e7",
   "metadata": {},
   "outputs": [
    {
     "data": {
      "text/plain": [
       "9"
      ]
     },
     "execution_count": 14,
     "metadata": {},
     "output_type": "execute_result"
    }
   ],
   "source": [
    "min(prices)"
   ]
  },
  {
   "cell_type": "code",
   "execution_count": 19,
   "id": "66041f75",
   "metadata": {},
   "outputs": [
    {
     "name": "stdout",
     "output_type": "stream",
     "text": [
      "292.8333333333333\n"
     ]
    }
   ],
   "source": [
    "mean = sum(prices) / len(prices)\n",
    "print(mean)"
   ]
  },
  {
   "cell_type": "markdown",
   "id": "ac4d9301",
   "metadata": {},
   "source": [
    "## user define function"
   ]
  },
  {
   "cell_type": "code",
   "execution_count": 23,
   "id": "db8dff61",
   "metadata": {},
   "outputs": [],
   "source": [
    "def greet(name):\n",
    "    \"\"\"This function greet to the person passed in as a parameter \"\"\"\n",
    "    print(\"hello, \" + name + \". Asslam-o-Alikum\" + \". How are you?\")\n"
   ]
  },
  {
   "cell_type": "code",
   "execution_count": 24,
   "id": "059cb483",
   "metadata": {},
   "outputs": [
    {
     "name": "stdout",
     "output_type": "stream",
     "text": [
      "hello, Aun Abbas. Asslam-o-Alikum. How are you?\n"
     ]
    }
   ],
   "source": [
    "greet(\"Aun Abbas\")"
   ]
  },
  {
   "cell_type": "code",
   "execution_count": 44,
   "id": "1e76439c",
   "metadata": {},
   "outputs": [
    {
     "name": "stdout",
     "output_type": "stream",
     "text": [
      "\u001b[1;31mSignature:\u001b[0m \u001b[0mmean_of_list\u001b[0m\u001b[1;33m(\u001b[0m\u001b[0mnumbers\u001b[0m\u001b[1;33m)\u001b[0m\u001b[1;33m\u001b[0m\u001b[1;33m\u001b[0m\u001b[0m\n",
      "\u001b[1;31mDocstring:\u001b[0m This function returns the mean of a list of numbers\n",
      "\u001b[1;31mFile:\u001b[0m      c:\\users\\hasnain ali\\appdata\\local\\temp\\ipykernel_11512\\3144296127.py\n",
      "\u001b[1;31mType:\u001b[0m      function"
     ]
    }
   ],
   "source": [
    "?mean_of_list"
   ]
  },
  {
   "cell_type": "code",
   "execution_count": 41,
   "id": "d3a345fa",
   "metadata": {},
   "outputs": [],
   "source": [
    "def mean_of_list(numbers):\n",
    "    \"\"\"This function returns the mean of a list of numbers\"\"\"\n",
    "    # return the mean and round it off to 2 decimal places\n",
    "    return round (sum(numbers) / len(numbers), 3)"
   ]
  },
  {
   "cell_type": "code",
   "execution_count": 42,
   "id": "0334d9b2",
   "metadata": {},
   "outputs": [
    {
     "data": {
      "text/plain": [
       "450.0"
      ]
     },
     "execution_count": 42,
     "metadata": {},
     "output_type": "execute_result"
    }
   ],
   "source": [
    "prices = [200,300,400,500,630,654,789,43,534]\n",
    "mean_of_list(prices)"
   ]
  },
  {
   "cell_type": "code",
   "execution_count": 43,
   "id": "d7d99a62",
   "metadata": {},
   "outputs": [
    {
     "name": "stdout",
     "output_type": "stream",
     "text": [
      "\u001b[1;31mSignature:\u001b[0m \u001b[0mmean_of_list\u001b[0m\u001b[1;33m(\u001b[0m\u001b[0mnumbers\u001b[0m\u001b[1;33m)\u001b[0m\u001b[1;33m\u001b[0m\u001b[1;33m\u001b[0m\u001b[0m\n",
      "\u001b[1;31mDocstring:\u001b[0m This function returns the mean of a list of numbers\n",
      "\u001b[1;31mFile:\u001b[0m      c:\\users\\hasnain ali\\appdata\\local\\temp\\ipykernel_11512\\3144296127.py\n",
      "\u001b[1;31mType:\u001b[0m      function"
     ]
    }
   ],
   "source": [
    "?mean_of_list"
   ]
  },
  {
   "cell_type": "code",
   "execution_count": 65,
   "id": "9976e86f",
   "metadata": {},
   "outputs": [],
   "source": [
    "def add(a,b,c):\n",
    "    \"\"\"this function returns the sum of three numders\"\"\"\n",
    "    return a + b + c"
   ]
  },
  {
   "cell_type": "code",
   "execution_count": 66,
   "id": "67d7eaf7",
   "metadata": {},
   "outputs": [
    {
     "data": {
      "text/plain": [
       "10"
      ]
     },
     "execution_count": 66,
     "metadata": {},
     "output_type": "execute_result"
    }
   ],
   "source": [
    "add(2,3,5)"
   ]
  },
  {
   "cell_type": "code",
   "execution_count": 79,
   "id": "703f1e53",
   "metadata": {},
   "outputs": [],
   "source": [
    "def introduce(name, age):\n",
    "    \"\"\"This function introduces about the person\"\"\"\n",
    "    print(\"Hello, My name is \" + name + \" and I am \" +str(age) + \" years old.\")"
   ]
  },
  {
   "cell_type": "code",
   "execution_count": 80,
   "id": "dd364618",
   "metadata": {},
   "outputs": [
    {
     "name": "stdout",
     "output_type": "stream",
     "text": [
      "Hello, My name is Aun Abbas and I am 16 years old.\n"
     ]
    }
   ],
   "source": [
    "introduce(\"Aun Abbas\", 16)"
   ]
  },
  {
   "cell_type": "code",
   "execution_count": 81,
   "id": "59aadda3",
   "metadata": {},
   "outputs": [],
   "source": [
    "def introduces(name, age):\n",
    "    \"\"\"This function introducesabout the person\"\"\"\n",
    "    print(\"hello, My name is \" + name + \"and I am \" + atr(age) + \"years old.\")"
   ]
  },
  {
   "cell_type": "code",
   "execution_count": 84,
   "id": "b2b7213f",
   "metadata": {},
   "outputs": [
    {
     "name": "stdout",
     "output_type": "stream",
     "text": [
      "Hello, My name is Aun Abbas and I am 16 years old.\n"
     ]
    }
   ],
   "source": [
    "introduce(\"Aun Abbas\", 16)"
   ]
  },
  {
   "cell_type": "code",
   "execution_count": 104,
   "id": "8a04ef29",
   "metadata": {},
   "outputs": [],
   "source": [
    "# function with out parameters\n",
    "def say_hello(name):\n",
    "    \"\"\"This function just prints hello\"\"\"\n",
    "    print(\"Hello,\" + name + \" from Johdkay!\")"
   ]
  },
  {
   "cell_type": "code",
   "execution_count": 105,
   "id": "3d9df596",
   "metadata": {},
   "outputs": [
    {
     "name": "stdout",
     "output_type": "stream",
     "text": [
      "Hello,Aun Abbas from Johdkay!\n"
     ]
    }
   ],
   "source": [
    "say_hello(\"Aun Abbas\")"
   ]
  },
  {
   "cell_type": "code",
   "execution_count": 107,
   "id": "0bdf8717",
   "metadata": {},
   "outputs": [],
   "source": [
    "def say_hello():\n",
    "    \"\"\"This function just prints hello\"\"\"\n",
    "    print(\"Hello, Johdkay!\")"
   ]
  },
  {
   "cell_type": "code",
   "execution_count": 108,
   "id": "4494a713",
   "metadata": {},
   "outputs": [
    {
     "name": "stdout",
     "output_type": "stream",
     "text": [
      "Hello, Johdkay!\n"
     ]
    }
   ],
   "source": [
    "say_hello()"
   ]
  },
  {
   "cell_type": "code",
   "execution_count": 109,
   "id": "209ce0aa",
   "metadata": {},
   "outputs": [],
   "source": [
    "# function with parameters\n",
    "def greet(name = \"Aun Abbas\"):\n",
    "    \"\"\"This function just prints hello\"\"\"\n",
    "    print(\"Hello,\" + name + \" from Johdkay!\")"
   ]
  },
  {
   "cell_type": "code",
   "execution_count": 112,
   "id": "36f4ea74",
   "metadata": {},
   "outputs": [
    {
     "name": "stdout",
     "output_type": "stream",
     "text": [
      "Hello,Aun Abbas from Johdkay!\n"
     ]
    }
   ],
   "source": [
    "greet()"
   ]
  },
  {
   "cell_type": "code",
   "execution_count": 113,
   "id": "ab50597e",
   "metadata": {},
   "outputs": [
    {
     "name": "stdout",
     "output_type": "stream",
     "text": [
      "Hello,Haider from Johdkay!\n"
     ]
    }
   ],
   "source": [
    "greet(\"Haider\")"
   ]
  }
 ],
 "metadata": {
  "kernelspec": {
   "display_name": "Python 3",
   "language": "python",
   "name": "python3"
  },
  "language_info": {
   "codemirror_mode": {
    "name": "ipython",
    "version": 3
   },
   "file_extension": ".py",
   "mimetype": "text/x-python",
   "name": "python",
   "nbconvert_exporter": "python",
   "pygments_lexer": "ipython3",
   "version": "3.10.16"
  }
 },
 "nbformat": 4,
 "nbformat_minor": 5
}
