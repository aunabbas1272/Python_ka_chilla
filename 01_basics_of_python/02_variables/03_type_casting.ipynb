{
 "cells": [
  {
   "cell_type": "markdown",
   "id": "45ea2a2b",
   "metadata": {},
   "source": [
    "# Type casting"
   ]
  },
  {
   "cell_type": "markdown",
   "id": "fd93b6de",
   "metadata": {},
   "source": [
    "## Int to float"
   ]
  },
  {
   "cell_type": "code",
   "execution_count": 1,
   "id": "37e71742",
   "metadata": {},
   "outputs": [],
   "source": [
    "age_int = 29 # this is an integer\n",
    "\n",
    "# convert the integer to a float\n",
    "age_float = float(age_int)"
   ]
  },
  {
   "cell_type": "code",
   "execution_count": 2,
   "id": "9fb23580",
   "metadata": {},
   "outputs": [
    {
     "name": "stdout",
     "output_type": "stream",
     "text": [
      "<class 'float'>\n"
     ]
    }
   ],
   "source": [
    "print(type(age_float))\n"
   ]
  },
  {
   "cell_type": "code",
   "execution_count": 3,
   "id": "2beaf022",
   "metadata": {},
   "outputs": [
    {
     "name": "stdout",
     "output_type": "stream",
     "text": [
      "<class 'int'>\n"
     ]
    }
   ],
   "source": [
    "print(type(age_int))"
   ]
  },
  {
   "cell_type": "markdown",
   "id": "59bc1e98",
   "metadata": {},
   "source": [
    "## Float to int\n"
   ]
  },
  {
   "cell_type": "code",
   "execution_count": 4,
   "id": "95d48cf5",
   "metadata": {},
   "outputs": [],
   "source": [
    "price = 9.99\n",
    "price_int = int(price)"
   ]
  },
  {
   "cell_type": "markdown",
   "id": "e460e009",
   "metadata": {},
   "source": [
    "## Float or int to string"
   ]
  },
  {
   "cell_type": "code",
   "execution_count": 5,
   "id": "30006d70",
   "metadata": {},
   "outputs": [],
   "source": [
    "number_int = 10\n",
    "number_float = 10.5"
   ]
  },
  {
   "cell_type": "code",
   "execution_count": 6,
   "id": "38ddd8f3",
   "metadata": {},
   "outputs": [],
   "source": [
    "number = str(number_int)\n",
    "number_float = str(number_float)"
   ]
  },
  {
   "cell_type": "markdown",
   "id": "13b5710b",
   "metadata": {},
   "source": [
    "## str to int or float"
   ]
  },
  {
   "cell_type": "code",
   "execution_count": 7,
   "id": "44c7fc6b",
   "metadata": {},
   "outputs": [],
   "source": [
    "value = \"225\"\n",
    "value_int = int(value)\n",
    "value_float = float(value)"
   ]
  },
  {
   "cell_type": "markdown",
   "id": "1442c9b1",
   "metadata": {},
   "source": [
    "## list to tupie  tuple to list"
   ]
  },
  {
   "cell_type": "code",
   "execution_count": 8,
   "id": "b4191294",
   "metadata": {},
   "outputs": [
    {
     "name": "stdout",
     "output_type": "stream",
     "text": [
      "<class 'list'>\n",
      "<class 'tuple'>\n"
     ]
    }
   ],
   "source": [
    "my_list = [1, 2, 3, 4, 5]\n",
    "my_tuple = (1, 2, 3, 4, 5)\n",
    "\n",
    "print(type(my_list))\n",
    "print(type(my_tuple))"
   ]
  },
  {
   "cell_type": "code",
   "execution_count": 9,
   "id": "edbc1adf",
   "metadata": {},
   "outputs": [
    {
     "name": "stdout",
     "output_type": "stream",
     "text": [
      "<class 'tuple'>\n",
      "<class 'list'>\n"
     ]
    }
   ],
   "source": [
    "my_list_to_tuple = tuple(my_list)\n",
    "my_tuple_to_list = list(my_tuple)\n",
    "\n",
    "print(type(my_list_to_tuple))\n",
    "print(type(my_tuple_to_list))"
   ]
  },
  {
   "cell_type": "markdown",
   "id": "ed23b0a2",
   "metadata": {},
   "source": [
    "## list to set and set to list"
   ]
  },
  {
   "cell_type": "code",
   "execution_count": 10,
   "id": "fbcecbd8",
   "metadata": {},
   "outputs": [
    {
     "name": "stdout",
     "output_type": "stream",
     "text": [
      "<class 'set'>\n"
     ]
    }
   ],
   "source": [
    "my_list = [1, 2, 3, 4, 5]\n",
    "my_list = set(my_list)\n",
    "print(type(my_list))"
   ]
  },
  {
   "cell_type": "markdown",
   "id": "dc685b65",
   "metadata": {},
   "source": [
    "## to boolean"
   ]
  },
  {
   "cell_type": "code",
   "execution_count": 11,
   "id": "ff1d6118",
   "metadata": {},
   "outputs": [
    {
     "name": "stdout",
     "output_type": "stream",
     "text": [
      "<class 'bool'>\n",
      "True\n"
     ]
    }
   ],
   "source": [
    "number = 10\n",
    "number = bool(number)\n",
    "print(type(number))\n",
    "print(number)"
   ]
  },
  {
   "cell_type": "code",
   "execution_count": 12,
   "id": "1650e873",
   "metadata": {},
   "outputs": [
    {
     "name": "stdout",
     "output_type": "stream",
     "text": [
      "<class 'bool'>\n",
      "False\n"
     ]
    }
   ],
   "source": [
    "khali_list = []\n",
    "khali_list = bool(khali_list)\n",
    "print(type(khali_list))\n",
    "print(khali_list)"
   ]
  },
  {
   "cell_type": "code",
   "execution_count": 13,
   "id": "847f58ac",
   "metadata": {},
   "outputs": [
    {
     "name": "stdout",
     "output_type": "stream",
     "text": [
      "I am 29 years old.\n"
     ]
    }
   ],
   "source": [
    "age = 29\n",
    "print(\"I am \" + str(age) + \" years old.\")"
   ]
  }
 ],
 "metadata": {
  "kernelspec": {
   "display_name": "Python 3",
   "language": "python",
   "name": "python3"
  },
  "language_info": {
   "codemirror_mode": {
    "name": "ipython",
    "version": 3
   },
   "file_extension": ".py",
   "mimetype": "text/x-python",
   "name": "python",
   "nbconvert_exporter": "python",
   "pygments_lexer": "ipython3",
   "version": "3.10.16"
  }
 },
 "nbformat": 4,
 "nbformat_minor": 5
}
