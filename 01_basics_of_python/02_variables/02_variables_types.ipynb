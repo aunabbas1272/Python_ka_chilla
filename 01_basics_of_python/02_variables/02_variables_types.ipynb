{
 "cells": [
  {
   "cell_type": "markdown",
   "id": "8590abe1",
   "metadata": {},
   "source": [
    "# Types of Variables"
   ]
  },
  {
   "cell_type": "code",
   "execution_count": null,
   "id": "c7082406",
   "metadata": {
    "vscode": {
     "languageId": "markdown"
    }
   },
   "outputs": [],
   "source": []
  },
  {
   "cell_type": "markdown",
   "id": "d0926883",
   "metadata": {},
   "source": [
    "# 1. Integer"
   ]
  },
  {
   "cell_type": "code",
   "execution_count": 2,
   "id": "b197c6ae",
   "metadata": {},
   "outputs": [
    {
     "name": "stdout",
     "output_type": "stream",
     "text": [
      "<class 'int'>\n"
     ]
    }
   ],
   "source": [
    "age = 10\n",
    "print(type(age))"
   ]
  },
  {
   "cell_type": "markdown",
   "id": "e2819149",
   "metadata": {},
   "source": [
    "# 2. Floating"
   ]
  },
  {
   "cell_type": "code",
   "execution_count": 5,
   "id": "b06939a9",
   "metadata": {},
   "outputs": [],
   "source": [
    "temperature = 10.5"
   ]
  },
  {
   "cell_type": "code",
   "execution_count": 6,
   "id": "6d339317",
   "metadata": {},
   "outputs": [
    {
     "data": {
      "text/plain": [
       "float"
      ]
     },
     "execution_count": 6,
     "metadata": {},
     "output_type": "execute_result"
    }
   ],
   "source": [
    "type(temperature)"
   ]
  },
  {
   "cell_type": "markdown",
   "id": "f4559387",
   "metadata": {},
   "source": [
    "# 3. String"
   ]
  },
  {
   "cell_type": "code",
   "execution_count": 7,
   "id": "71228b8e",
   "metadata": {},
   "outputs": [],
   "source": [
    "greetings = \"Hello,codanians\""
   ]
  },
  {
   "cell_type": "code",
   "execution_count": 8,
   "id": "a06c0fb8",
   "metadata": {},
   "outputs": [
    {
     "name": "stdout",
     "output_type": "stream",
     "text": [
      "<class 'str'>\n"
     ]
    }
   ],
   "source": [
    "print(type(greetings))"
   ]
  },
  {
   "cell_type": "markdown",
   "id": "b61a49c3",
   "metadata": {},
   "source": [
    "# 4. Boolean\n"
   ]
  },
  {
   "cell_type": "code",
   "execution_count": null,
   "id": "22c681a2",
   "metadata": {},
   "outputs": [
    {
     "name": "stdout",
     "output_type": "stream",
     "text": [
      "False\n"
     ]
    },
    {
     "data": {
      "text/plain": [
       "bool"
      ]
     },
     "execution_count": 12,
     "metadata": {},
     "output_type": "execute_result"
    }
   ],
   "source": [
    "is_reaning = False\n",
    "print(is_reaning) \n",
    "type(is_reaning)"
   ]
  },
  {
   "cell_type": "markdown",
   "id": "390a318a",
   "metadata": {},
   "source": [
    "# 5. list"
   ]
  },
  {
   "cell_type": "code",
   "execution_count": 20,
   "id": "54ecd7e3",
   "metadata": {},
   "outputs": [
    {
     "name": "stdout",
     "output_type": "stream",
     "text": [
      "<class 'list'>\n",
      "<class 'list'>\n"
     ]
    }
   ],
   "source": [
    "numbers = [1, 2, 3, 4, 5]\n",
    "print(type(numbers))\n",
    "names = [\"Aun\", \"Abid\", \"Ali\", \"Awais\"]\n",
    "print(type(names))"
   ]
  },
  {
   "cell_type": "markdown",
   "id": "22a475d0",
   "metadata": {},
   "source": [
    "# 6. tuple"
   ]
  },
  {
   "cell_type": "code",
   "execution_count": 21,
   "id": "d87f31f5",
   "metadata": {},
   "outputs": [
    {
     "name": "stdout",
     "output_type": "stream",
     "text": [
      "<class 'tuple'>\n"
     ]
    }
   ],
   "source": [
    "prices = (10, 20, 30, 40, 50)\n",
    "print(type(prices))"
   ]
  },
  {
   "cell_type": "markdown",
   "id": "a9f0b7ab",
   "metadata": {},
   "source": [
    "# 7. Dictionary"
   ]
  },
  {
   "cell_type": "code",
   "execution_count": 1,
   "id": "41f8cda3",
   "metadata": {},
   "outputs": [
    {
     "name": "stdout",
     "output_type": "stream",
     "text": [
      "<class 'dict'>\n"
     ]
    }
   ],
   "source": [
    "persons = {\"name\": \"Aun\", \"age\": 16}\n",
    "print(type(persons))"
   ]
  },
  {
   "cell_type": "markdown",
   "id": "3f3678b4",
   "metadata": {},
   "source": [
    "# 8. Set"
   ]
  },
  {
   "cell_type": "code",
   "execution_count": 2,
   "id": "e531a07b",
   "metadata": {},
   "outputs": [
    {
     "name": "stdout",
     "output_type": "stream",
     "text": [
      "<class 'set'>\n"
     ]
    }
   ],
   "source": [
    "set = {1, 2, 3, 4, 5}\n",
    "print(type(set))"
   ]
  },
  {
   "cell_type": "markdown",
   "id": "421ac8cd",
   "metadata": {},
   "source": [
    "# 9. NoneType"
   ]
  },
  {
   "cell_type": "code",
   "execution_count": 3,
   "id": "38214d31",
   "metadata": {},
   "outputs": [
    {
     "name": "stdout",
     "output_type": "stream",
     "text": [
      "<class 'NoneType'>\n"
     ]
    }
   ],
   "source": [
    "result = None\n",
    "print(type(result))"
   ]
  },
  {
   "cell_type": "markdown",
   "id": "acf7ba2c",
   "metadata": {},
   "source": [
    "# 10. Complex"
   ]
  },
  {
   "cell_type": "code",
   "execution_count": 4,
   "id": "1713e76a",
   "metadata": {},
   "outputs": [
    {
     "name": "stdout",
     "output_type": "stream",
     "text": [
      "<class 'complex'>\n"
     ]
    }
   ],
   "source": [
    "conplex = 1 + 2j\n",
    "print(type(conplex))"
   ]
  }
 ],
 "metadata": {
  "kernelspec": {
   "display_name": "Python 3",
   "language": "python",
   "name": "python3"
  },
  "language_info": {
   "codemirror_mode": {
    "name": "ipython",
    "version": 3
   },
   "file_extension": ".py",
   "mimetype": "text/x-python",
   "name": "python",
   "nbconvert_exporter": "python",
   "pygments_lexer": "ipython3",
   "version": "3.10.16"
  }
 },
 "nbformat": 4,
 "nbformat_minor": 5
}
