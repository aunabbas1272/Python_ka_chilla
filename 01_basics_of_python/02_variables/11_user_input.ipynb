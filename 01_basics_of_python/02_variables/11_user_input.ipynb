{
 "cells": [
  {
   "cell_type": "code",
   "execution_count": null,
   "id": "36afe5d3",
   "metadata": {},
   "outputs": [],
   "source": []
  },
  {
   "cell_type": "markdown",
   "id": "bed3c708",
   "metadata": {},
   "source": [
    "# user input\n"
   ]
  },
  {
   "cell_type": "code",
   "execution_count": 4,
   "id": "6b4ed8e9",
   "metadata": {},
   "outputs": [],
   "source": [
    "age = input(\"Enter your age? \")\n",
    "age = int(age)"
   ]
  },
  {
   "cell_type": "code",
   "execution_count": null,
   "id": "bf1c5ec0",
   "metadata": {},
   "outputs": [],
   "source": [
    "age_01 = int(input(\"Enter your age? \"))"
   ]
  },
  {
   "cell_type": "code",
   "execution_count": null,
   "id": "fb0960bc",
   "metadata": {},
   "outputs": [
    {
     "name": "stdout",
     "output_type": "stream",
     "text": [
      "Hello, AUN!\n"
     ]
    }
   ],
   "source": [
    "name = input(\"Enter your name? \")\n",
    "\n",
    "print(\"Hello, \" + name + \"!\")"
   ]
  },
  {
   "cell_type": "code",
   "execution_count": null,
   "id": "9687b42d",
   "metadata": {},
   "outputs": [],
   "source": [
    "learning = input(\"I am learing from following youtube channel\")"
   ]
  },
  {
   "cell_type": "code",
   "execution_count": null,
   "id": "0a8a9ff8",
   "metadata": {},
   "outputs": [],
   "source": [
    "cell_number = input(\"Enter your cell number? \")\n",
    "cell_number = int(cell_number)"
   ]
  },
  {
   "cell_type": "code",
   "execution_count": 2,
   "id": "5d89d3a3",
   "metadata": {},
   "outputs": [
    {
     "name": "stdout",
     "output_type": "stream",
     "text": [
      "Warning! Invalid input, write age in numeric form.\n"
     ]
    }
   ],
   "source": [
    "age = input(\"Write your age? \")\n",
    "\n",
    "if age.isdigit():\n",
    "    age = int(age)\n",
    "    print(\"Your age is\", age)\n",
    "else:\n",
    "    print(\"Warning! Invalid input, write age in numeric form.\")\n"
   ]
  },
  {
   "cell_type": "code",
   "execution_count": null,
   "id": "ab53214c",
   "metadata": {},
   "outputs": [
    {
     "name": "stdout",
     "output_type": "stream",
     "text": [
      "Hello, Aun ! You are is: 16\n"
     ]
    }
   ],
   "source": [
    "name = input(\"Enter your name? \")\n",
    "age = input(\"Enter your age? \")\n",
    "print(\"Hello, \" + name + \" ! You are is: \" + age)"
   ]
  },
  {
   "cell_type": "code",
   "execution_count": null,
   "id": "0002a132",
   "metadata": {},
   "outputs": [
    {
     "name": "stdout",
     "output_type": "stream",
     "text": [
      "Hello, Aun ! You are is : 16\n"
     ]
    }
   ],
   "source": [
    "name , age = input(\"Write your name and age separated by a space: \").split()\n",
    "print(\"Hello, \" + name + \" ! You are is : \" + age)"
   ]
  }
 ],
 "metadata": {
  "kernelspec": {
   "display_name": "Python 3",
   "language": "python",
   "name": "python3"
  },
  "language_info": {
   "codemirror_mode": {
    "name": "ipython",
    "version": 3
   },
   "file_extension": ".py",
   "mimetype": "text/x-python",
   "name": "python",
   "nbconvert_exporter": "python",
   "pygments_lexer": "ipython3",
   "version": "3.10.16"
  }
 },
 "nbformat": 4,
 "nbformat_minor": 5
}
