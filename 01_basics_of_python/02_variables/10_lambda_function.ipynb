{
 "cells": [
  {
   "cell_type": "markdown",
   "id": "36bb566f",
   "metadata": {},
   "source": [
    "# Lambda function"
   ]
  },
  {
   "cell_type": "code",
   "execution_count": 5,
   "id": "054935cb",
   "metadata": {},
   "outputs": [],
   "source": [
    "# User def function\n",
    "def add(a, b):\n",
    "    \"\"\"This function adds two numbers.\"\"\"\n",
    "    return a+b"
   ]
  },
  {
   "cell_type": "code",
   "execution_count": 4,
   "id": "74e3a27c",
   "metadata": {},
   "outputs": [
    {
     "name": "stdout",
     "output_type": "stream",
     "text": [
      "\u001b[1;31mSignature:\u001b[0m \u001b[0madd\u001b[0m\u001b[1;33m(\u001b[0m\u001b[0ma\u001b[0m\u001b[1;33m,\u001b[0m \u001b[0mb\u001b[0m\u001b[1;33m)\u001b[0m\u001b[1;33m\u001b[0m\u001b[1;33m\u001b[0m\u001b[0m\n",
      "\u001b[1;31mDocstring:\u001b[0m This function adds two numbers.\n",
      "\u001b[1;31mFile:\u001b[0m      c:\\users\\hasnain ali\\appdata\\local\\temp\\ipykernel_1112\\534624059.py\n",
      "\u001b[1;31mType:\u001b[0m      function"
     ]
    }
   ],
   "source": [
    "?add"
   ]
  },
  {
   "cell_type": "code",
   "execution_count": 6,
   "id": "97dc60c3",
   "metadata": {},
   "outputs": [
    {
     "data": {
      "text/plain": [
       "68"
      ]
     },
     "execution_count": 6,
     "metadata": {},
     "output_type": "execute_result"
    }
   ],
   "source": [
    "add(34,34)"
   ]
  },
  {
   "cell_type": "code",
   "execution_count": 7,
   "id": "5581effe",
   "metadata": {},
   "outputs": [],
   "source": [
    "# Lambda funtion\n",
    "add_lambda = lambda a,b: a+b"
   ]
  },
  {
   "cell_type": "code",
   "execution_count": 8,
   "id": "a1532b0b",
   "metadata": {},
   "outputs": [
    {
     "data": {
      "text/plain": [
       "33"
      ]
     },
     "execution_count": 8,
     "metadata": {},
     "output_type": "execute_result"
    }
   ],
   "source": [
    "add_lambda(11,22)"
   ]
  },
  {
   "cell_type": "code",
   "execution_count": 10,
   "id": "f2c62252",
   "metadata": {},
   "outputs": [
    {
     "name": "stdout",
     "output_type": "stream",
     "text": [
      "[360000, 250000, 160000, 90000, 40000, 10000]\n"
     ]
    }
   ],
   "source": [
    "number = [600,500,400,300,200,100]\n",
    "#lambda function \n",
    "square_number = map(lambda x: x**2, number)\n",
    "print(list(square_number))"
   ]
  },
  {
   "cell_type": "code",
   "execution_count": 11,
   "id": "cff08ea3",
   "metadata": {},
   "outputs": [
    {
     "name": "stdout",
     "output_type": "stream",
     "text": [
      "[1, 8, 27, 64, 125, 216, 343]\n"
     ]
    }
   ],
   "source": [
    "number = [1,2,3,4,5,6,7,]\n",
    "# lambda function\n",
    "cube_number = map(lambda x: x**3, number)\n",
    "print(list(cube_number))\n"
   ]
  }
 ],
 "metadata": {
  "kernelspec": {
   "display_name": "Python 3",
   "language": "python",
   "name": "python3"
  },
  "language_info": {
   "codemirror_mode": {
    "name": "ipython",
    "version": 3
   },
   "file_extension": ".py",
   "mimetype": "text/x-python",
   "name": "python",
   "nbconvert_exporter": "python",
   "pygments_lexer": "ipython3",
   "version": "3.10.16"
  }
 },
 "nbformat": 4,
 "nbformat_minor": 5
}
