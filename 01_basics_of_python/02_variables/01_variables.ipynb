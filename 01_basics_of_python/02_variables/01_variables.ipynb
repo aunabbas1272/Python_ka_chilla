{
 "cells": [
  {
   "cell_type": "markdown",
   "id": "375ea18f",
   "metadata": {},
   "source": [
    "# **Variables and types**\n",
    "# **Variables**\n",
    "Variables is a name that refers to a value, hence the name variable. In python, can be declared and values can be assigned to it as follows:\n",
    "these are the types of variables in Python\n",
    "1. Numbers\n",
    "2. String\n",
    "3. List\n",
    "4. Tuple\n",
    "5. Dictionary\n",
    "6. Set\n",
    "7. Boolean\n",
    "8. \n",
    "   "
   ]
  },
  {
   "cell_type": "code",
   "execution_count": 7,
   "id": "2baad8d4",
   "metadata": {},
   "outputs": [],
   "source": [
    "age = 16\n"
   ]
  },
  {
   "cell_type": "code",
   "execution_count": 4,
   "id": "17ba93b1",
   "metadata": {},
   "outputs": [
    {
     "name": "stdout",
     "output_type": "stream",
     "text": [
      "16\n"
     ]
    }
   ],
   "source": [
    "print(age)\n"
   ]
  },
  {
   "cell_type": "code",
   "execution_count": 5,
   "id": "19abf960",
   "metadata": {},
   "outputs": [
    {
     "name": "stdout",
     "output_type": "stream",
     "text": [
      "I am 16 years old\n"
     ]
    }
   ],
   "source": [
    "print(\"I am\", age, \"years old\")"
   ]
  },
  {
   "cell_type": "code",
   "execution_count": 9,
   "id": "61b57dfb",
   "metadata": {},
   "outputs": [],
   "source": [
    "name = \"Aun\""
   ]
  },
  {
   "cell_type": "code",
   "execution_count": 10,
   "id": "164c7340",
   "metadata": {},
   "outputs": [
    {
     "name": "stdout",
     "output_type": "stream",
     "text": [
      "My name is Aun\n"
     ]
    }
   ],
   "source": [
    "print(\"My name is\", name)\n"
   ]
  },
  {
   "cell_type": "code",
   "execution_count": 17,
   "id": "e156f6e8",
   "metadata": {},
   "outputs": [],
   "source": [
    "is_student = True"
   ]
  },
  {
   "cell_type": "code",
   "execution_count": 15,
   "id": "82b5a7db",
   "metadata": {},
   "outputs": [
    {
     "name": "stdout",
     "output_type": "stream",
     "text": [
      "am I a student? True\n"
     ]
    }
   ],
   "source": [
    "print(\"am I a student?\", is_student)"
   ]
  },
  {
   "cell_type": "code",
   "execution_count": 18,
   "id": "cdf21533",
   "metadata": {},
   "outputs": [],
   "source": [
    "height = 5.10\n"
   ]
  },
  {
   "cell_type": "code",
   "execution_count": 21,
   "id": "fd386279",
   "metadata": {},
   "outputs": [
    {
     "name": "stdout",
     "output_type": "stream",
     "text": [
      "My height is 5.1 feet\n"
     ]
    }
   ],
   "source": [
    "print(\"My height is\", height, \"feet\")\n"
   ]
  }
 ],
 "metadata": {
  "kernelspec": {
   "display_name": "Python 3",
   "language": "python",
   "name": "python3"
  },
  "language_info": {
   "codemirror_mode": {
    "name": "ipython",
    "version": 3
   },
   "file_extension": ".py",
   "mimetype": "text/x-python",
   "name": "python",
   "nbconvert_exporter": "python",
   "pygments_lexer": "ipython3",
   "version": "3.10.16"
  }
 },
 "nbformat": 4,
 "nbformat_minor": 5
}
