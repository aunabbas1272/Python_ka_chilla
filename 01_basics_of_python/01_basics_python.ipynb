{
 "cells": [
  {
   "cell_type": "code",
   "execution_count": 1,
   "id": "f29b4770",
   "metadata": {},
   "outputs": [
    {
     "name": "stdout",
     "output_type": "stream",
     "text": [
      "14\n",
      "4\n",
      "45\n"
     ]
    }
   ],
   "source": [
    "a = 5 \n",
    "b = 9 \n",
    "print(a+b)\n",
    "print(b-a)\n",
    "print(a*b)"
   ]
  },
  {
   "cell_type": "markdown",
   "id": "e5739b9f",
   "metadata": {},
   "source": [
    "**\" first notebook**"
   ]
  },
  {
   "cell_type": "code",
   "execution_count": 12,
   "id": "f6a182ba",
   "metadata": {},
   "outputs": [
    {
     "name": "stdout",
     "output_type": "stream",
     "text": [
      "I am learning coding with python\n"
     ]
    }
   ],
   "source": [
    "print(\"I am learning coding with python\")"
   ]
  },
  {
   "cell_type": "code",
   "execution_count": 13,
   "id": "0131408c",
   "metadata": {},
   "outputs": [
    {
     "name": "stdout",
     "output_type": "stream",
     "text": [
      "Hello world\n"
     ]
    }
   ],
   "source": [
    "print(\"Hello world\")"
   ]
  }
 ],
 "metadata": {
  "kernelspec": {
   "display_name": "Python 3",
   "language": "python",
   "name": "python3"
  },
  "language_info": {
   "codemirror_mode": {
    "name": "ipython",
    "version": 3
   },
   "file_extension": ".py",
   "mimetype": "text/x-python",
   "name": "python",
   "nbconvert_exporter": "python",
   "pygments_lexer": "ipython3",
   "version": "3.10.16"
  }
 },
 "nbformat": 4,
 "nbformat_minor": 5
}
